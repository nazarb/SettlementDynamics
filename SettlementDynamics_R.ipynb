{
  "nbformat": 4,
  "nbformat_minor": 0,
  "metadata": {
    "colab": {
      "provenance": [],
      "authorship_tag": "ABX9TyNRlnHs5aN2vM+LAnYbRlPE",
      "include_colab_link": true
    },
    "kernelspec": {
      "name": "ir",
      "display_name": "R"
    },
    "language_info": {
      "name": "R"
    }
  },
  "cells": [
    {
      "cell_type": "markdown",
      "metadata": {
        "id": "view-in-github",
        "colab_type": "text"
      },
      "source": [
        "<a href=\"https://colab.research.google.com/github/nazarb/SettlementDynamics/blob/main/SettlementDynamics_R.ipynb\" target=\"_parent\"><img src=\"https://colab.research.google.com/assets/colab-badge.svg\" alt=\"Open In Colab\"/></a>"
      ]
    },
    {
      "cell_type": "code",
      "execution_count": 3,
      "metadata": {
        "id": "-4VzKVkDq3Fa"
      },
      "outputs": [],
      "source": [
        "start <- function() {\n",
        "  cat(\"# of sites starting in preceding phase and ending in this one\\n\")\n",
        "  a <<- as.integer(readline())\n",
        "  cat(\"# of sites starting in preceding and continuing into phase following this one\\n\")\n",
        "  b <<- as.integer(readline())\n",
        "  cat(\"# of sites beginning in this and continuing into following phase\\n\")\n",
        "  c <<- as.integer(readline())\n",
        "  cat(\"# of one-component sites of this phase\\n\")\n",
        "  d <<- as.integer(readline())\n",
        "  cat(\"phaselength in years\\n\")\n",
        "  phaselength <<- as.integer(readline())\n",
        "  cat(\"# of iterations desired (must be 500 or less)\\n\")\n",
        "  max <<- as.integer(readline())\n",
        "  settle <<- (c + d) / phaselength\n",
        "  cat(\"Settlements originate at the rate of \", settle, \" per year.\\n\")\n",
        "  aband <<- (a + d) / phaselength\n",
        "  cat(\"Settlements are abandoned at the rate of \", aband, \" per year.\\n\")\n",
        "}\n",
        "\n",
        "newvillage <- function() {\n",
        "  VY <<- integer(2001)\n",
        "  runsd <<- numeric(501)\n",
        "  runmn <<- numeric(501)\n",
        "\n",
        "  iter <- 1\n",
        "  while (iter <= max) {\n",
        "    vill <- a + b\n",
        "    year <- 0\n",
        "    while (year < phaselength) {\n",
        "      if (vill < 1) {\n",
        "        break\n",
        "      }\n",
        "      randno <- runif(1)\n",
        "      if (randno <= aband) {\n",
        "        vill <- vill - 1\n",
        "      }\n",
        "      randno <- runif(1)\n",
        "      if (randno <= settle) {\n",
        "        vill <- vill + 1\n",
        "      }\n",
        "      VY[year] <- vill\n",
        "      year <- year + 1\n",
        "    }\n",
        "\n",
        "    year <- 0\n",
        "    u <- 0\n",
        "    v <- 0\n",
        "    while (year < phaselength) {\n",
        "      u <- u + VY[year]\n",
        "      v <- v + VY[year] ^ 2\n",
        "      year <- year + 1\n",
        "    }\n",
        "\n",
        "    mn <- u / phaselength\n",
        "    sd <- sqrt((v - ((u ^ 2) / phaselength)) / (phaselength - 1))\n",
        "    runsd[iter] <- sd\n",
        "    runmn[iter] <- mn\n",
        "    iter <- iter + 1\n",
        "  }\n",
        "}\n",
        "\n",
        "distrib <- function() {\n",
        "  iter <- 1\n",
        "  u <- 0\n",
        "  v <- 0\n",
        "  while (iter <= max) {\n",
        "    u <- u + runmn[iter]\n",
        "    v <- v + runmn[iter] ^ 2\n",
        "    iter <- iter + 1\n",
        "  }\n",
        "\n",
        "  mn <- u / max\n",
        "  sd <- sqrt((v - ((u ^ 2) / max)) / (max - 1))\n",
        "  cat(\"The mean of all runs is \", mn, \"\\n\")\n",
        "  cat(\"The mean sd of all runs is \", sd, \"\\n\")\n",
        "  cat(\"The average span of occupation was \", 1 / (aband / mn), \"\\n\")\n",
        "  cat(\"Less one sd the span estimate is \", 1 * (aband / (mn - sd)), \"\\n\")\n",
        "  cat(\"Plus one sd the span estimate is \", 1 * (aband / (mn + sd)), \"\\n\")\n",
        "}\n",
        "\n",
        "start()\n",
        "newvillage()\n",
        "distrib()\n"
      ]
    }
  ]
}