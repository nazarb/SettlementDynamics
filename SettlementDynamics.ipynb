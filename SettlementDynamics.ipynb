{
  "nbformat": 4,
  "nbformat_minor": 0,
  "metadata": {
    "colab": {
      "provenance": [],
      "authorship_tag": "ABX9TyMuEKNgzLRj7SdFSwXuhaX4",
      "include_colab_link": true
    },
    "kernelspec": {
      "name": "python3",
      "display_name": "Python 3"
    },
    "language_info": {
      "name": "python"
    }
  },
  "cells": [
    {
      "cell_type": "markdown",
      "metadata": {
        "id": "view-in-github",
        "colab_type": "text"
      },
      "source": [
        "<a href=\"https://colab.research.google.com/github/nazarb/SettlementDynamics/blob/main/SettlementDynamics.ipynb\" target=\"_parent\"><img src=\"https://colab.research.google.com/assets/colab-badge.svg\" alt=\"Open In Colab\"/></a>"
      ]
    },
    {
      "cell_type": "code",
      "source": [
        "import random\n",
        "import math\n"
      ],
      "metadata": {
        "id": "WCQzoTysiR7C"
      },
      "execution_count": 2,
      "outputs": []
    },
    {
      "cell_type": "code",
      "execution_count": 3,
      "metadata": {
        "colab": {
          "base_uri": "https://localhost:8080/"
        },
        "id": "3RTsehkQczmf",
        "outputId": "ab7b2899-05fa-4513-aa88-b30ac687ef42"
      },
      "outputs": [
        {
          "output_type": "stream",
          "name": "stdout",
          "text": [
            "# of sites starting in preceding phase and ending in this one\n",
            "30\n",
            "# of sites starting in preceding and continuing into phase following this one\n",
            "30\n",
            "# of sites beginning in this and continuing into following phase\n",
            "30\n",
            "# of one-component sites of this phase\n",
            "30\n",
            "phaselength in years\n",
            "500\n",
            "# of iterations desired (must be 500 or less)\n",
            "500\n",
            "Settlements originate at the rate of 0.12 per year.\n",
            "Settlements are abandoned at the rate of 0.12 per year\n",
            "The mean of all runs is 59.82845600000009\n",
            "The mean sd of all runs is 6.006447188121963\n",
            "The average span of occupation was 498.57046666666747\n",
            "Less one sd the span estimate is 0.0022295711856358076\n",
            "Plus one sd the span estimate is 0.001822741345226895\n"
          ]
        }
      ],
      "source": [
        "\n",
        "def start():\n",
        "    global a, b, c, d, phaselength, max, settle, aband\n",
        "    print(\"# of sites starting in preceding phase and ending in this one\")\n",
        "    a = int(input())\n",
        "    print(\"# of sites starting in preceding and continuing into phase following this one\")\n",
        "    b = int(input())\n",
        "    print(\"# of sites beginning in this and continuing into following phase\")\n",
        "    c = int(input())\n",
        "    print(\"# of one-component sites of this phase\")\n",
        "    d = int(input())\n",
        "    print(\"phaselength in years\")\n",
        "    phaselength = int(input())\n",
        "    print(\"# of iterations desired (must be 500 or less)\")\n",
        "    max = int(input())\n",
        "    settle = (c + d) / phaselength\n",
        "    print(\"Settlements originate at the rate of\", settle, \"per year.\")\n",
        "    aband = (a + d) / phaselength\n",
        "    print(\"Settlements are abandoned at the rate of\", aband, \"per year\")\n",
        "\n",
        "def newvillage():\n",
        "    global VY, runsd, runmn\n",
        "    VY = [0] * 2001\n",
        "    runsd = [0] * 501\n",
        "    runmn = [0] * 501\n",
        "\n",
        "    iter = 1\n",
        "    while iter <= max:\n",
        "        vill = a + b\n",
        "        year = 0\n",
        "        while year < phaselength:\n",
        "            if vill < 1:\n",
        "                break\n",
        "            randno = random.random()\n",
        "            if randno <= aband:\n",
        "                vill -= 1\n",
        "            randno = random.random()\n",
        "            if randno <= settle:\n",
        "                vill += 1\n",
        "            VY[year] = vill\n",
        "            year += 1\n",
        "\n",
        "        year = 0\n",
        "        u = 0\n",
        "        v = 0\n",
        "        while year < phaselength:\n",
        "            u += VY[year]\n",
        "            v += VY[year] ** 2\n",
        "            year += 1\n",
        "\n",
        "        mn = u / phaselength\n",
        "        sd = math.sqrt((v - ((u ** 2) / phaselength)) / (phaselength - 1))\n",
        "        runsd[iter] = sd\n",
        "        runmn[iter] = mn\n",
        "        iter += 1\n",
        "\n",
        "def distrib():\n",
        "    global runmn, runsd\n",
        "    iter = 1\n",
        "    u = 0\n",
        "    v = 0\n",
        "    while iter <= max:\n",
        "        u += runmn[iter]\n",
        "        v += runmn[iter] ** 2\n",
        "        iter += 1\n",
        "\n",
        "    mn = u / max\n",
        "    sd = math.sqrt((v - ((u ** 2) / max)) / (max - 1))\n",
        "    print(\"The mean of all runs is\", mn)\n",
        "    print(\"The mean sd of all runs is\", sd)\n",
        "    print(\"The average span of occupation was\", 1 / (aband / mn))\n",
        "    print(\"Less one sd the span estimate is\", 1 * (aband / (mn - sd)))\n",
        "    print(\"Plus one sd the span estimate is\", 1 * (aband / (mn + sd)))\n",
        "\n",
        "start()\n",
        "newvillage()\n",
        "distrib()\n"
      ]
    }
  ]
}